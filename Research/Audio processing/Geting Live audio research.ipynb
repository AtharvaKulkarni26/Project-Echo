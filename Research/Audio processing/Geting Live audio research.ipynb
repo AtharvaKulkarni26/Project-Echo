{
 "cells": [
  {
   "cell_type": "markdown",
   "metadata": {},
   "source": [
    "# Getting Live Audio Research"
   ]
  },
  {
   "cell_type": "markdown",
   "metadata": {},
   "source": [
    "Absolutely. We can do this with many libraries but there are two more popular and easy to handle `pyaudio.` and `sounddevice`. \n",
    "\n",
    "\n",
    "## 1. With `sounddevice`\n",
    "Let's use the `sounddevice` library in Python to capture live audio and select a specific input device. \n",
    "\n",
    "1. **List Available Input Devices**: \n",
    "\n",
    "    The first step is to list all available input devices so you can choose the microphone you want to use.\n",
    "\n",
    "    \n"
   ]
  },
  {
   "cell_type": "code",
   "execution_count": null,
   "metadata": {
    "vscode": {
     "languageId": "plaintext"
    }
   },
   "outputs": [],
   "source": [
    "import sounddevice as sd\n",
    "\n",
    "def print_sound_devices():\n",
    "    print(sd.query_devices())\n",
    "\n",
    "print_sound_devices()"
   ]
  },
  {
   "cell_type": "markdown",
   "metadata": {},
   "source": [
    "This function will print out a list of all input and output devices, including microphones. Each device has an index that we can use to select it for recording."
   ]
  },
  {
   "cell_type": "markdown",
   "metadata": {},
   "source": [
    "\n",
    "2. **Select Specific Microphone and Record Audio**: \n",
    "\n",
    "    After choosing the microphone (let's assume the index is 1), you can record audio from that specific microphone as follows:\n"
   ]
  },
  {
   "cell_type": "code",
   "execution_count": null,
   "metadata": {
    "vscode": {
     "languageId": "plaintext"
    }
   },
   "outputs": [],
   "source": [
    "fs = 44100  # Sample rate\n",
    "duration = 10  # Duration in seconds\n",
    "\n",
    "def record_audio(device_index):\n",
    "    print(\"Recording...\")\n",
    "    recording = sd.rec(int(duration * fs), samplerate=fs, channels=2, device=device_index)\n",
    "    sd.wait()  # Wait for the recording to finish\n",
    "    print(\"Recording Complete.\")\n",
    "    return recording\n",
    "\n",
    "recording = record_audio(device_index=1)\n"
   ]
  },
  {
   "cell_type": "markdown",
   "metadata": {},
   "source": [
    "\n",
    " In this code, `device_index` is the index of the microphone you want to use, `fs` is the sample rate, and `duration` is the duration of the recording in seconds."
   ]
  },
  {
   "cell_type": "markdown",
   "metadata": {},
   "source": [
    "\n",
    "\n",
    "3. **Continuous/Streamed Audio Recording**: \n",
    "\n",
    "    In order to perform real-time predictions, you need to continuously capture audio. The `sounddevice.InputStream` can be used for this purpose:"
   ]
  },
  {
   "cell_type": "code",
   "execution_count": null,
   "metadata": {
    "vscode": {
     "languageId": "plaintext"
    }
   },
   "outputs": [],
   "source": [
    "def audio_callback(indata, frames, time, status):\n",
    "    # This is called for every chunk of audio, 'indata' is a NumPy array with the captured audio\n",
    "\n",
    "with sd.InputStream(callback=audio_callback, device=device_index):\n",
    "    sd.sleep(duration * 1000)  # This will capture audio for 'duration' seconds\n"
   ]
  },
  {
   "cell_type": "markdown",
   "metadata": {},
   "source": [
    "\n",
    "In the `audio_callback` function, you can add your model's prediction code. Please note, you need to adjust this example to your specific use case, as the audio processing and prediction steps depend heavily on your model and task."
   ]
  },
  {
   "cell_type": "markdown",
   "metadata": {},
   "source": [
    "## 2. using `pyaudio`\n",
    "\n",
    "another popular library for audio processing is pyaudio. Here is an example of how you can use it for your task:\n",
    "\n"
   ]
  },
  {
   "cell_type": "markdown",
   "metadata": {},
   "source": [
    "\n",
    "1. **Listing Available Input Devices**:\n",
    "\n",
    "    You can use `pyaudio`'s `get_device_info_by_index` function in combination with a loop to print out all available audio devices.\n",
    "\n",
    "\n",
    "\n",
    "\n",
    "\n",
    "\n",
    "  "
   ]
  },
  {
   "cell_type": "code",
   "execution_count": null,
   "metadata": {
    "vscode": {
     "languageId": "plaintext"
    }
   },
   "outputs": [],
   "source": [
    "import pyaudio\n",
    "\n",
    "def print_sound_devices():\n",
    "    p = pyaudio.PyAudio()\n",
    "\n",
    "    info = p.get_host_api_info_by_index(0)\n",
    "    numdevices = info.get('deviceCount')\n",
    "    for i in range(0, numdevices):\n",
    "        if (p.get_device_info_by_index(i).get('maxInputChannels')) > 0:\n",
    "            print(\"Input Device id \", i, \" - \", p.get_device_info_by_index(i).get('name'))\n",
    "\n",
    "print_sound_devices()\n"
   ]
  },
  {
   "cell_type": "markdown",
   "metadata": {},
   "source": [
    "\n",
    "This function will print out a list of all input devices, including microphones. Each device has an index that you can use to select it for recording."
   ]
  },
  {
   "cell_type": "markdown",
   "metadata": {},
   "source": [
    "2. **Selecting Specific Microphone and Recording Audio**:\n",
    "\n",
    "    After choosing the microphone (let's assume the index is 1), you can record audio from that specific microphone as follows:\n"
   ]
  },
  {
   "cell_type": "code",
   "execution_count": null,
   "metadata": {
    "vscode": {
     "languageId": "plaintext"
    }
   },
   "outputs": [],
   "source": [
    "def record_audio(device_index):\n",
    "    p = pyaudio.PyAudio()\n",
    "    stream = p.open(format=pyaudio.paInt16, channels=1, rate=44100, input=True, input_device_index=device_index, frames_per_buffer=1024)\n",
    "    print(\"Recording...\")\n",
    "    frames = []\n",
    "    for i in range(0, int(44100 / 1024 * duration)):\n",
    "        data = stream.read(1024)\n",
    "        frames.append(data)\n",
    "    print(\"Recording Complete.\")\n",
    "    stream.stop_stream()\n",
    "    stream.close()\n",
    "    p.terminate()\n",
    "    return frames\n",
    "\n",
    "frames = record_audio(device_index=1)\n"
   ]
  },
  {
   "cell_type": "markdown",
   "metadata": {},
   "source": [
    "In this code, `device_index` is the index of the microphone you want to use, `44100` is the sample rate, and `duration` is the duration of the recording in seconds.\n"
   ]
  },
  {
   "cell_type": "markdown",
   "metadata": {},
   "source": [
    "3. **Continuous/Streamed Audio Recording**:\n",
    "\n",
    "    If you want to record audio in a stream to process in real-time, you can use `pyaudio`'s callback mode:\n"
   ]
  },
  {
   "cell_type": "code",
   "execution_count": null,
   "metadata": {
    "vscode": {
     "languageId": "plaintext"
    }
   },
   "outputs": [],
   "source": [
    "def audio_callback(in_data, frame_count, time_info, status):\n",
    "    # This is called for every chunk of audio, 'in_data' is a byte array with the captured audio\n",
    "\n",
    "stream = p.open(format=pyaudio.paInt16, channels=1, rate=44100, input=True, input_device_index=device_index, frames_per_buffer=1024, stream_callback=audio_callback)\n",
    "\n",
    "stream.start_stream()\n",
    "while stream.is_active():  # This will capture audio as long as the stream is active\n",
    "    time.sleep(0.1)\n",
    "stream.stop_stream()\n",
    "stream.close()\n",
    "p.terminate()\n"
   ]
  },
  {
   "cell_type": "markdown",
   "metadata": {},
   "source": [
    "In the `audio_callback` function, you can add your model's prediction code. Again, you will need to adjust this example to your specific use case."
   ]
  }
 ],
 "metadata": {
  "language_info": {
   "name": "python"
  },
  "orig_nbformat": 4
 },
 "nbformat": 4,
 "nbformat_minor": 2
}
